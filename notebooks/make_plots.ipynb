{
 "cells": [
  {
   "cell_type": "code",
   "execution_count": null,
   "id": "d2c1d759",
   "metadata": {},
   "outputs": [],
   "source": [
    "import sys\n",
    "# need to add cocpit dir to path - can't relative import with sister directory\n",
    "sys.path.insert(0, \"..\") \n",
    "\n",
    "import cocpit\n",
    "import cocpit.config as config\n",
    "import cocpit.plot as plot\n",
    "\n",
    "import itertools\n",
    "from collections import OrderedDict\n",
    "\n",
    "import matplotlib.pyplot as plt\n",
    "import numpy as np\n",
    "import pandas as pd\n",
    "import seaborn as sns\n",
    "sns.set_style(\"whitegrid\")\n",
    "\n",
    "\n",
    "import torch\n",
    "from sklearn.metrics import confusion_matrix\n",
    "import matplotlib.cm as cm\n",
    "from matplotlib.colors import Normalize\n",
    "\n",
    "%load_ext autoreload\n",
    "%autoreload 2"
   ]
  },
  {
   "cell_type": "code",
   "execution_count": null,
   "id": "345460fc",
   "metadata": {},
   "outputs": [],
   "source": [
    "plt_params = {\n",
    "    \"axes.labelsize\": \"xx-large\",\n",
    "    \"axes.titlesize\": \"xx-large\",\n",
    "    \"xtick.labelsize\": \"xx-large\",\n",
    "    \"ytick.labelsize\": \"xx-large\",\n",
    "    \"legend.title_fontsize\": 12,\n",
    "}\n",
    "plt.rcParams[\"font.family\"] = \"serif\"\n",
    "plt.rcParams.update(plt_params)"
   ]
  },
  {
   "cell_type": "markdown",
   "id": "2efeeef9",
   "metadata": {},
   "source": [
    "### plot confusion matrix on all validation dataloaders from cross fold validation"
   ]
  },
  {
   "cell_type": "code",
   "execution_count": null,
   "id": "a60dcdd9",
   "metadata": {},
   "outputs": [],
   "source": [
    "\"\"\"\n",
    "iterate through each fold and append predictions and actual labels\n",
    "changing saved model and validation data each time\n",
    "\"\"\"\n",
    "\n",
    "all_preds = []\n",
    "all_labels = []\n",
    "for fold in range(5):\n",
    "    val_data = torch.load(\n",
    "        \"/data/data/saved_val_loaders/no_mask/v1.3.0/val_loader20_bs64_k\"\n",
    "        + str(fold)\n",
    "        + \"_1models_vgg16_no_blank.pt\"\n",
    "    )\n",
    "    saved_model_name = (\n",
    "        \"/data/data/saved_models/no_mask/v1.3.0/e20_bs64_k\"\n",
    "        + str(fold)\n",
    "        + \"_1models_no_blank_vgg16\"\n",
    "    )\n",
    "    \n",
    "\n",
    "    model = torch.load(saved_model_name).cuda()\n",
    "    device = torch.device(\"cuda\" if torch.cuda.is_available() else \"cpu\")\n",
    "    result = saved_model_name.find(\"bs\")\n",
    "    batch_size = int(saved_model_name[result + 2 : result + 4])\n",
    "\n",
    "    # get predictions from val loader\n",
    "    preds, labels = cocpit.data_loaders.get_val_loader_predictions(\n",
    "        model, val_data, device, batch_size\n",
    "    )\n",
    "    all_preds.append(preds)\n",
    "    all_labels.append(labels)"
   ]
  },
  {
   "cell_type": "code",
   "execution_count": null,
   "id": "1a64d364",
   "metadata": {},
   "outputs": [],
   "source": [
    "all_preds = list(itertools.chain(*all_preds))\n",
    "all_labels = list(itertools.chain(*all_labels))"
   ]
  },
  {
   "cell_type": "code",
   "execution_count": null,
   "id": "72f4a12e",
   "metadata": {},
   "outputs": [],
   "source": [
    "# plot/save conf matrix\n",
    "save_name = \"/data/data/plots/conf_matrix_allfolds.pdf\"\n",
    "\n",
    "cocpit.plot_metrics.confusion_matrix(\n",
    "    all_preds, all_labels, norm=False, save_name=save_name, save_fig=True\n",
    ")"
   ]
  },
  {
   "cell_type": "code",
   "execution_count": null,
   "id": "1f8a3e84",
   "metadata": {},
   "outputs": [],
   "source": [
    "# plot/save normalized conf matrix\n",
    "save_name = \"/data/data/plots/norm_conf_matrix_allfolds.pdf\"\n",
    "cocpit.plot_metrics.confusion_matrix(\n",
    "    all_preds, all_labels, norm=True, save_name=save_name, save_fig=True\n",
    ")"
   ]
  },
  {
   "cell_type": "markdown",
   "id": "e106e129",
   "metadata": {},
   "source": [
    "### plot confusion matrix on one validation dataloader (no folds)"
   ]
  },
  {
   "cell_type": "code",
   "execution_count": null,
   "id": "62b914fd",
   "metadata": {},
   "outputs": [],
   "source": [
    "\"\"\"\n",
    "iterate through each fold and append predictions and actual labels\n",
    "changing saved model and validation data each time\n",
    "\"\"\"\n",
    "\n",
    "val_data = torch.load(config.VAL_LOADER_SAVENAME)\n",
    "model = torch.load(config.MODEL_SAVENAME).cuda()\n",
    "result = config.MODEL_SAVENAME.find(\"bs\")\n",
    "batch_size = int(config.MODEL_SAVENAME[result + 2 : result + 4])\n",
    "\n",
    "# get predictions from val loader\n",
    "all_preds, all_labels = cocpit.data_loaders.get_val_loader_predictions(\n",
    "    model, val_data, batch_size\n",
    ")\n"
   ]
  },
  {
   "cell_type": "code",
   "execution_count": null,
   "id": "be171444",
   "metadata": {},
   "outputs": [],
   "source": [
    "# plot/save conf matrix from one val_loader\n",
    "# don't normalize (show magnitude of predictions per class)\n",
    "save_name = \"/data/data/plots/conf_matrix_v1.4.0.pdf\"\n",
    "\n",
    "cocpit.plot_metrics.conf_matrix(\n",
    "    all_preds, all_labels, norm=False, save_name=save_name\n",
    ")"
   ]
  },
  {
   "cell_type": "code",
   "execution_count": null,
   "id": "77f5fec7",
   "metadata": {},
   "outputs": [],
   "source": [
    "# plot/save conf matrix from one val_loader\n",
    "# normalize (show relative % of (in)correct predictions)\n",
    "save_name = \"/data/data/plots/norm_conf_matrix_v1.4.0.pdf\"\n",
    "\n",
    "cocpit.plot_metrics.conf_matrix(\n",
    "    all_preds, all_labels, norm=True, save_name=save_name\n",
    ")"
   ]
  },
  {
   "cell_type": "markdown",
   "id": "f5872442",
   "metadata": {},
   "source": [
    "### classification reports"
   ]
  },
  {
   "cell_type": "markdown",
   "id": "22e38d82",
   "metadata": {},
   "source": [
    "A macro-average will compute the metric independently for each class and then take the average (hence treating all classes equally), whereas a micro-average will aggregate the contributions of all classes to compute the average metric. In a multi-class classification setup, macro-average is preferable if you suspect there might be class imbalance (i.e you may have many more examples of one class than of other classes)."
   ]
  },
  {
   "cell_type": "code",
   "execution_count": null,
   "id": "260424ce",
   "metadata": {},
   "outputs": [],
   "source": [
    "# rename models for plotting\n",
    "model_names = [\n",
    "    \"efficient\",\n",
    "    \"resnet18\",\n",
    "    \"resnet34\",\n",
    "    \"resnet152\",\n",
    "    \"alexnet\",\n",
    "    \"vgg16\",\n",
    "    \"vgg19\",\n",
    "    \"densenet169\",\n",
    "    \"densenet201\",\n",
    "]\n",
    "new_names = [\n",
    "    \"Efficient-b0\",\n",
    "    \"ResNet-18\",\n",
    "    \"ResNet-34\",\n",
    "    \"ResNet-152\",\n",
    "    \"AlexNet\",\n",
    "    \"VGG-16\",\n",
    "    \"VGG-19\",\n",
    "    \"DenseNet-169\",\n",
    "    \"DenseNet-201\",\n",
    "]\n",
    "convert_names = {model_names[i]: new_names[i] for i in range(len(new_names))}\n",
    "convert_names"
   ]
  },
  {
   "cell_type": "code",
   "execution_count": null,
   "id": "9f992966",
   "metadata": {},
   "outputs": [],
   "source": [
    "\"\"\"\n",
    "classification report w.r.t. each model \n",
    "includes variability between classes and folds\n",
    "\"\"\"\n",
    "metric_filename = (\n",
    "    \"/data/data/saved_accuracies/save_val_metrics_e20_bs64_k5_9_no_blank.csv\"\n",
    ")\n",
    "save_name = \"/data/data/plots/model_metrics_noavg.pdf\"\n",
    "cocpit.plot_metrics.model_metric_folds(\n",
    "    metric_filename, convert_names, save_name, avg=None, save_fig=True\n",
    ")"
   ]
  },
  {
   "cell_type": "code",
   "execution_count": null,
   "id": "812d46c7",
   "metadata": {},
   "outputs": [],
   "source": [
    "\"\"\"\n",
    "classification report w.r.t. each model \n",
    "includes variability only between folds\n",
    "plots the macro avg across classes\n",
    "\"\"\"\n",
    "metric_filename = (\n",
    "    \"/data/data/saved_accuracies/save_val_metrics_e20_bs64_k5_9_no_blank.csv\"\n",
    ")\n",
    "save_name = \"/data/data/plots/model_metrics_variation_folds.pdf\"\n",
    "cocpit.plot_metrics.model_metric_folds(\n",
    "    metric_filename, convert_names, save_name, avg=\"classes\", save_fig=True\n",
    ")"
   ]
  },
  {
   "cell_type": "code",
   "execution_count": null,
   "id": "5e4e6c73",
   "metadata": {},
   "outputs": [],
   "source": [
    "\"\"\"\n",
    "classification report w.r.t. each model \n",
    "includes variability only between folds\n",
    "plots the macro avg across classes\n",
    "\"\"\"\n",
    "metric_filename = (\n",
    "    \"/data/data/saved_accuracies/save_val_metrics_e20_bs64_k5_9_no_blank.csv\"\n",
    ")\n",
    "save_name = \"/data/data/plots/model_metrics_variation_classes.pdf\"\n",
    "cocpit.plot_metrics.model_metric_folds(\n",
    "    metric_filename, convert_names, save_name, avg=\"folds\", save_fig=True\n",
    ")"
   ]
  },
  {
   "cell_type": "markdown",
   "id": "343306d5",
   "metadata": {},
   "source": [
    "### plot precision, recall, and f1-score w.r.t. each class"
   ]
  },
  {
   "cell_type": "code",
   "execution_count": null,
   "id": "78b2f297",
   "metadata": {},
   "outputs": [],
   "source": [
    "\"\"\"\n",
    "classification report for best overall performing model (vgg16) w.r.t class\n",
    "\"\"\"\n",
    "save_name = \"/data/data/plots/clf_report_classes_vgg16_all_folds.pdf\"\n",
    "clf_report = cocpit.plot_metrics.metrics_report(\n",
    "    all_labels, all_preds\n",
    ")\n",
    "cocpit.plot_metrics.classification_report_classes(\n",
    "    clf_report, save_name, save_fig=True\n",
    ")"
   ]
  },
  {
   "cell_type": "markdown",
   "id": "5aab62ee",
   "metadata": {},
   "source": [
    "### plot batch size vs val acc for vgg16"
   ]
  },
  {
   "cell_type": "code",
   "execution_count": null,
   "id": "80313681",
   "metadata": {},
   "outputs": [],
   "source": [
    "val_csv = \"/data/data/saved_accuracies/save_val_acc_loss_batchsize_comparew16_32_e20_bs32_k0_1models_no_blank.csv\"\n",
    "save_name = \"/data/data/plots/batch_size_vs_val_acc.pdf\"\n",
    "plot.batch_size_accuracy_bar(val_csv, save_name, save_fig=True)"
   ]
  },
  {
   "cell_type": "code",
   "execution_count": null,
   "id": "500f41f4",
   "metadata": {},
   "outputs": [],
   "source": [
    "fig, (ax1, ax2) = plt.subplots(1,2, figsize=(15,5))\n",
    "df_val = pd.read_csv(\n",
    "    val_csv, names=[\"Model\", \"Epoch\", \"Batch Size\", \"Accuracy\", \"Loss\"]\n",
    ")\n",
    "\n",
    "df_val[\"Accuracy\"] = df_val[\"Accuracy\"] * 100\n",
    "df = df_val.pivot_table(index='Epoch', columns='Batch Size', values='Accuracy')\n",
    "df.plot(ylim=[94,98], ax=ax1, cmap=cm.get_cmap(\"icefire\"))\n",
    "df = df_val.pivot_table(index='Epoch', columns='Batch Size', values='Loss')\n",
    "df.plot(ylim=[0.0,0.5], ax=ax2, cmap=cm.get_cmap(\"icefire\"))\n"
   ]
  },
  {
   "cell_type": "markdown",
   "id": "f619b0cf",
   "metadata": {},
   "source": [
    "## plot training and validation accuracy and loss"
   ]
  },
  {
   "cell_type": "code",
   "execution_count": null,
   "id": "bcb66e04",
   "metadata": {},
   "outputs": [],
   "source": [
    "train_csv = \"/data/data/saved_accuracies/save_train_acc_loss_e20_bs64_k5_9models_no_blank.csv\"\n",
    "df_train = pd.read_csv(\n",
    "    train_csv, names=[\"Model\", \"Epoch\", \"Kfold\", \"Batch Size\", \"Accuracy\", \"Loss\"]\n",
    ")\n",
    "\n",
    "df_train.replace(convert_names, inplace=True)\n",
    "df_train.head()"
   ]
  },
  {
   "cell_type": "code",
   "execution_count": null,
   "id": "cdd421da",
   "metadata": {},
   "outputs": [],
   "source": [
    "val_csv = \"/data/data/saved_accuracies/save_val_acc_loss_e20_bs64_k5_9models_no_blank.csv\"\n",
    "df_val = pd.read_csv(\n",
    "    val_csv, names=[\"Model\", \"Epoch\", \"Kfold\", \"Batch Size\", \"Accuracy\", \"Loss\"]\n",
    ")\n",
    "df_val.replace(convert_names, inplace=True)\n",
    "df_val.head()"
   ]
  },
  {
   "cell_type": "code",
   "execution_count": null,
   "id": "ad9387ce",
   "metadata": {},
   "outputs": [],
   "source": [
    "colors = {\n",
    "    \"Efficient-b0\": \"#C76114\",\n",
    "    \"ResNet-18\": \"#CAE1FF\",\n",
    "    \"ResNet-34\": \"#3063A5\",\n",
    "    \"ResNet-152\": \"#162252\",\n",
    "    \"AlexNet\": \"#FCDC3B\",\n",
    "    \"VGG-16\": \"#CD9B9B\",\n",
    "    \"VGG-19\": \"#9E0508\",\n",
    "    \"DenseNet-169\": \"#9CBA7F\",\n",
    "    \"DenseNet-201\": \"#006633\",\n",
    "}\n",
    "num_epochs = int(val_csv[55:57])\n",
    "kfold = int(val_csv[64:65])\n",
    "num_models = len(model_names)"
   ]
  },
  {
   "cell_type": "code",
   "execution_count": null,
   "id": "73fec379",
   "metadata": {},
   "outputs": [],
   "source": [
    "# reshape data\n",
    "if kfold == 0:\n",
    "    val_accs = df_val[\"Accuracy\"].values.reshape(num_models, num_epochs)\n",
    "    val_losses = df_val[\"Loss\"].values.reshape(num_models, num_epochs)\n",
    "    train_accs = df_train[\"Accuracy\"].values.reshape(num_models, num_epochs)\n",
    "    train_losses = df_train[\"Loss\"].values.reshape(num_models, num_epochs)\n",
    "else:\n",
    "    val_accs = np.average(\n",
    "        df_val[\"Accuracy\"].values.reshape(num_models, kfold, num_epochs), axis=1\n",
    "    )\n",
    "    val_losses = np.average(\n",
    "        df_val[\"Loss\"].values.reshape(num_models, kfold, num_epochs), axis=1\n",
    "    )\n",
    "    train_accs = np.average(\n",
    "        df_train[\"Accuracy\"].values.reshape(num_models, kfold, num_epochs), axis=1\n",
    "    )\n",
    "    train_losses = np.average(\n",
    "        df_train[\"Loss\"].values.reshape(num_models, kfold, num_epochs), axis=1\n",
    "    )"
   ]
  },
  {
   "cell_type": "code",
   "execution_count": null,
   "id": "06f1a6c4",
   "metadata": {},
   "outputs": [],
   "source": [
    "save_name = \"/data/data/plots/loss_acc_9models_bs64_e20_9classes_avg5kfold_noblank.pdf\"\n",
    "plot.train_val_acc_loss(\n",
    "    model_names,\n",
    "    num_models,\n",
    "    num_epochs,\n",
    "    train_accs,\n",
    "    colors,\n",
    "    new_names,\n",
    "    val_accs,\n",
    "    train_losses,\n",
    "    val_losses,\n",
    "    save_name,\n",
    "    save_fig=True,\n",
    ")"
   ]
  },
  {
   "cell_type": "markdown",
   "id": "205203e0",
   "metadata": {},
   "source": [
    "### plot accuracy/loss curves for balanced vs unbalanced random samplers"
   ]
  },
  {
   "cell_type": "code",
   "execution_count": null,
   "id": "5038cfd0",
   "metadata": {},
   "outputs": [],
   "source": [
    "val_csv_unbalanced = \"/data/data/saved_accuracies/save_val_acc_loss_e20_bs64_k0_1models_unbalanced_v1.3.0.csv\"\n",
    "num_epochs = int(val_csv_unbalanced[47:49])\n",
    "df_val_unbalanced = pd.read_csv(\n",
    "    val_csv_unbalanced, names=[\"Model\", \"Epoch\", \"Kfold\", \"Batch Size\", \"Accuracy\", \"Loss\"]\n",
    ")\n",
    "train_csv_unbalanced = \"/data/data/saved_accuracies/save_train_acc_loss_e20_bs64_k0_1models_unbalanced_v1.3.0.csv\"\n",
    "df_train_unbalanced = pd.read_csv(\n",
    "    train_csv_unbalanced, names=[\"Model\", \"Epoch\", \"Kfold\", \"Batch Size\", \"Accuracy\", \"Loss\"]\n",
    ")\n",
    "\n",
    "val_csv = \"/data/data/saved_accuracies/save_val_acc_loss_e20_bs64_k0_1models_balanced_v1.3.0.csv\"\n",
    "df_val = pd.read_csv(\n",
    "    val_csv, names=[\"Model\", \"Epoch\", \"Kfold\", \"Batch Size\", \"Accuracy\", \"Loss\"]\n",
    ")\n",
    "train_csv = \"/data/data/saved_accuracies/save_train_acc_loss_e20_bs64_k0_1models_balanced_v1.3.0.csv\"\n",
    "df_train = pd.read_csv(\n",
    "    train_csv, names=[\"Model\", \"Epoch\", \"Kfold\", \"Batch Size\", \"Accuracy\", \"Loss\"]\n",
    ")"
   ]
  },
  {
   "cell_type": "code",
   "execution_count": null,
   "id": "494151be",
   "metadata": {},
   "outputs": [],
   "source": [
    "fig, (ax1, ax2) = plt.subplots(\n",
    "    1, 2, figsize=(13,3)\n",
    ")\n",
    "\n",
    "for c, item in enumerate([df_val['Accuracy'].values*100,\n",
    "                          df_val_unbalanced['Accuracy'].values*100]):\n",
    "    \n",
    "    color = 'blue' if c == 0 else 'orange'\n",
    "    label = 'Unweighted' if c == 1 else 'Weighted'\n",
    "\n",
    "    ax1.plot(\n",
    "        np.arange(1,len(df_train_unbalanced['Loss'])+1),\n",
    "        item,\n",
    "        color=color,\n",
    "        label=label\n",
    "    )\n",
    "    \n",
    "    \n",
    "for c, item in enumerate([df_val['Loss'].values,\n",
    "                          df_val_unbalanced['Loss'].values]):\n",
    "\n",
    "    color = 'blue' if c == 0 else 'orange'\n",
    "    label = 'Unweighted' if c == 1 else 'Weighted'\n",
    "    \n",
    "    ax2.plot(\n",
    "        np.arange(1,len(df_train_unbalanced['Loss'])+1),\n",
    "        item,\n",
    "        color=color,\n",
    "        label=label\n",
    "    )\n",
    "ax1.set_ylabel(\"Accuracy [%]\")\n",
    "ax2.set_ylabel(\"Loss\")\n",
    "ax1.set_xlabel(\"Epoch\")\n",
    "ax2.set_xlabel(\"Epoch\")\n",
    "ax1.set_xlim(1, num_epochs)\n",
    "ax2.set_xlim(1, num_epochs)\n",
    "ax1.set_ylim(85, 100)\n",
    "ax1.legend(loc=\"best\", prop={\"size\": 14})\n",
    "ax2.legend(loc=\"best\", prop={\"size\": 14})\n",
    "\n",
    "ax1.yaxis.set_ticks_position(\"both\")\n",
    "ax1.minorticks_on()\n",
    "\n",
    "save_name = \"/data/data/plots/unweighted_weighted_sampler_loss_acc_curves.png\"\n",
    "plt.tight_layout()\n",
    "plt.savefig(save_name)"
   ]
  },
  {
   "cell_type": "code",
   "execution_count": null,
   "id": "2defe6c6",
   "metadata": {},
   "outputs": [],
   "source": [
    "clf_report = pd.read_csv('/data/data/saved_accuracies/save_val_metrics_e20_bs64_k0_1_unbalanced_v1.3.0.csv', index_col=0).drop(columns=['model', 'fold'])\n",
    "save_name = \"/data/data/plots/unweighted_classification_report.pdf\"\n",
    "\n",
    "\n",
    "cocpit.plot_metrics.classification_report_classes(\n",
    "    clf_report, save_name=save_name, save_fig=True\n",
    ")  #should be lower"
   ]
  },
  {
   "cell_type": "code",
   "execution_count": null,
   "id": "c068bbb9",
   "metadata": {},
   "outputs": [],
   "source": [
    "clf_report = pd.read_csv('/data/data/saved_accuracies/save_val_metrics_e20_bs64_k0_1_balanced_v1.3.0.csv', index_col=0).drop(columns=['model', 'fold'])\n",
    "save_name = \"/data/data/plots/weighted_classification_report.pdf\"\n",
    "\n",
    "\n",
    "cocpit.classification_metrics.classification_report_classes(\n",
    "    clf_report, save_name=save_name, save_fig=True\n",
    ")"
   ]
  },
  {
   "cell_type": "markdown",
   "id": "9cfddbf2",
   "metadata": {},
   "source": [
    "### plot time it takes to train different models"
   ]
  },
  {
   "cell_type": "code",
   "execution_count": null,
   "id": "d257677d",
   "metadata": {},
   "outputs": [],
   "source": [
    "time_csv = \"/data/data/saved_timings/model_timing2.csv\"\n",
    "save_name = \"/data/data/plots/training_time.pdf\"\n",
    "plot.model_timing(time_csv, convert_names, colors, save_name, save_fig=False)"
   ]
  },
  {
   "cell_type": "markdown",
   "id": "5faeb2e6",
   "metadata": {},
   "source": [
    "### plot time it takes to run different samples"
   ]
  },
  {
   "cell_type": "code",
   "execution_count": null,
   "id": "c9a381a7",
   "metadata": {},
   "outputs": [],
   "source": [
    "time_csv = \"/data/data/saved_timings/model_timing_samples.csv\"\n",
    "save_name = \"/data/data/plots/model_timing_samples.pdf\"\n",
    "plot.time_samples(time_csv, save_name, convert_names, save_fig=True)"
   ]
  },
  {
   "cell_type": "code",
   "execution_count": null,
   "id": "a03aefdb",
   "metadata": {},
   "outputs": [],
   "source": [
    "time_csv = \"/data/data/saved_timings/model_timing_samples.csv\"\n",
    "save_name = \"/data/data/plots/model_efficiency_samples.pdf\"\n",
    "plot.efficiency_samples(time_csv, save_name, convert_names, save_fig=True)"
   ]
  },
  {
   "cell_type": "markdown",
   "id": "e3d8c72e",
   "metadata": {},
   "source": [
    "## plot cross validation"
   ]
  },
  {
   "cell_type": "code",
   "execution_count": null,
   "id": "cbaa2088",
   "metadata": {},
   "outputs": [],
   "source": [
    "val_accs = df_val[\"Accuracy\"].values.reshape(num_models, kfold, num_epochs)\n",
    "val_accs_avg = np.average(\n",
    "    df_val[\"Accuracy\"].values.reshape(num_models, kfold, num_epochs), axis=1\n",
    ")"
   ]
  },
  {
   "cell_type": "code",
   "execution_count": null,
   "id": "d4cda647",
   "metadata": {},
   "outputs": [],
   "source": [
    "val_accs_avg = {new_names[i]: val_accs_avg[i, -1] for i in range(len(model_names))}\n",
    "val_accs_avg"
   ]
  },
  {
   "cell_type": "code",
   "execution_count": null,
   "id": "97a872a8",
   "metadata": {},
   "outputs": [],
   "source": [
    "val_accs_avg_sort = dict(sorted(val_accs_avg.items(), key=lambda x: x[1]))\n",
    "val_accs_avg_sort"
   ]
  },
  {
   "cell_type": "code",
   "execution_count": null,
   "id": "12d935ab",
   "metadata": {},
   "outputs": [],
   "source": [
    "fig, (ax1, ax2) = plt.subplots(2, 1, figsize=(7, 7), sharex=True, sharey=True)\n",
    "fig.tight_layout(pad=3.0)\n",
    "# fig = plt.figure(figsize=(20,20))\n",
    "ax1 = plt.subplot(2, 1, 1)\n",
    "\n",
    "for i in range(num_models):\n",
    "    ax1.plot(\n",
    "        np.arange(1, (kfold + 1)),\n",
    "        [i * 100 for i in val_accs[i, :, -1]],\n",
    "        c=colors[new_names[i]],\n",
    "        marker=\"o\",\n",
    "        label=new_names[i],\n",
    "    )\n",
    "plt.ylabel(\"Accuracy [%]\")\n",
    "plt.xlabel(\"Fold\")\n",
    "plt.ylim(70, 100)\n",
    "# plt.xlim(1,num_epochs)\n",
    "# ax1.legend(title='Model type:', loc='best', prop={'size': 12})\n",
    "# Shrink current axis by 20%\n",
    "box = ax1.get_position()\n",
    "ax1.set_position([box.x0, box.y0, box.width * 0.8, box.height])\n",
    "\n",
    "# Put a legend to the right of the current axis\n",
    "ax1.legend(loc=\"center left\", bbox_to_anchor=(1, 0.5), fontsize=14)\n",
    "ax1.axes.xaxis.set_ticks(np.arange(1, 6, 1))\n",
    "ax1.yaxis.set_ticks_position(\"both\")\n",
    "ax1.minorticks_on()\n",
    "ax1.tick_params(axis=\"y\", which=\"minor\", direction=\"out\")\n",
    "# ax1.xaxis.set_tick_params(which='minor', bottom=False)\n",
    "ax1.title.set_text(\"Validation Data Accuracies\")\n",
    "\n",
    "ax2 = plt.subplot(2, 1, 2)\n",
    "plt.bar(\n",
    "    np.arange(1, num_models + 1),\n",
    "    [i * 100 for i in val_accs_avg_sort.values()],\n",
    "    color=sorted_colors.values(),\n",
    ")\n",
    "plt.ylabel(\"Average Accuracy [%]\")\n",
    "plt.xlabel(\"Model Name\")\n",
    "plt.ylim(85, 100)\n",
    "# plt.xlim(1,num_epochs)\n",
    "# Shrink current axis by 20%\n",
    "box = ax2.get_position()\n",
    "ax2.set_position([box.x0, box.y0, box.width * 0.8, box.height])\n",
    "\n",
    "# Put a legend to the right of the current axis\n",
    "# Set number of ticks for x-axis\n",
    "ax2.set_xticks(np.arange(1, 10))\n",
    "# Set ticks labels for x-axis\n",
    "ax2.set_xticklabels(sorted_colors.keys(), rotation=\"vertical\")\n",
    "ax2.yaxis.set_ticks_position(\"both\")"
   ]
  }
 ],
 "metadata": {
  "kernelspec": {
   "display_name": "Python 3 (ipykernel)",
   "language": "python",
   "name": "python3"
  },
  "language_info": {
   "codemirror_mode": {
    "name": "ipython",
    "version": 3
   },
   "file_extension": ".py",
   "mimetype": "text/x-python",
   "name": "python",
   "nbconvert_exporter": "python",
   "pygments_lexer": "ipython3",
   "version": "3.9.6"
  }
 },
 "nbformat": 4,
 "nbformat_minor": 5
}
