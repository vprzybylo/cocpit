{
 "cells": [
  {
   "cell_type": "markdown",
   "metadata": {},
   "source": [
    "An ipywidget interface to move incorrect predictions within the training dataset should they be labeled wrong"
   ]
  },
  {
   "cell_type": "code",
   "execution_count": 2,
   "metadata": {},
   "outputs": [
    {
     "name": "stdout",
     "output_type": "stream",
     "text": [
      "The autoreload extension is already loaded. To reload it, use:\n",
      "  %reload_ext autoreload\n"
     ]
    }
   ],
   "source": [
    "import sys\n",
    "\n",
    "sys.path.insert(0, \"..\")\n",
    "import itertools\n",
    "\n",
    "import ipywidgets\n",
    "import matplotlib.pyplot as plt\n",
    "import numpy as np\n",
    "\n",
    "import cocpit.config as config\n",
    "import cocpit.gui as gui\n",
    "\n",
    "%load_ext autoreload\n",
    "%autoreload 2"
   ]
  },
  {
   "cell_type": "code",
   "execution_count": null,
   "metadata": {},
   "outputs": [],
   "source": [
    "plt_params = {\n",
    "    \"axes.labelsize\": \"xx-large\",\n",
    "    \"axes.titlesize\": \"xx-large\",\n",
    "    \"xtick.labelsize\": \"xx-large\",\n",
    "    \"ytick.labelsize\": \"xx-large\",\n",
    "    \"legend.title_fontsize\": 12,\n",
    "}\n",
    "plt.rcParams[\"font.family\"] = \"serif\"\n",
    "plt.rcParams.update(plt_params)"
   ]
  },
  {
   "cell_type": "markdown",
   "metadata": {},
   "source": [
    "### check classifications from specific model and validation dataloader"
   ]
  },
  {
   "cell_type": "code",
   "execution_count": 49,
   "metadata": {},
   "outputs": [],
   "source": [
    "torch.cuda.empty_cache()"
   ]
  },
  {
   "cell_type": "code",
   "execution_count": 26,
   "metadata": {},
   "outputs": [
    {
     "name": "stdout",
     "output_type": "stream",
     "text": [
      "There are files in the dataloader that have already moved and cannot be found.\n",
      "This is likely due to running an old model that has not captured the updated file movement.\n",
      "Try rerunning the model to update the validation dataloaders.  Stopping prematurely.\n",
      "DONE FINDING INCORRECT PREDICTIONS!\n",
      "There are 571 images to check!\n"
     ]
    }
   ],
   "source": [
    "\"\"\"\n",
    "In gui.py, uses a model and validation dataloader to check predictions.\n",
    "Loops through all validation loader predictions but only saves incorrect predictions.\n",
    "The incorrect predictions are loaded into a gui so that a user can decide \n",
    "whether the label is wrong (i.e., the model is right)\n",
    "The image is automatically moved upon choosing a class from the dropdown menu.\n",
    "\"\"\"\n",
    "\n",
    "top_k_preds = 9  # the top k predictions will be displayed in bar chart\n",
    "folds = 5  # if kfold cross validation was not used, change to 0\n",
    "\n",
    "lp = gui.LoaderPredictions()\n",
    "\n",
    "try:\n",
    "\n",
    "    # loop over folds and model to get incorrect predictions\n",
    "    # includes a validation dataloader per fold to get all of the labeled images\n",
    "    # (i.e., not just 20% at once with a random shuffle)\n",
    "    for fold in range(folds):\n",
    "        lp.get_dataloader(fold)\n",
    "        lp.get_model(fold)\n",
    "        for batch_idx, ((imgs, labels, paths), index) in enumerate(lp.val_loader):\n",
    "            g = gui.BatchPredictions(lp, imgs, labels, paths)\n",
    "            g.find_wrong_indices()\n",
    "\n",
    "            # make sure there is an incorrect prediction in this batch\n",
    "            # otherwise skip appending\n",
    "            if len(wrong_idx) != 0:\n",
    "                g.top_k_preds(top_k_preds)\n",
    "                g.append_preds(lp)\n",
    "\n",
    "\n",
    "except FileNotFoundError:\n",
    "    print(\n",
    "        \"There are files in the dataloader that have already moved and cannot be found.\"\n",
    "    )\n",
    "    print(\n",
    "        \"This is likely due to running an old model that has not captured the updated file movement.\"\n",
    "    )\n",
    "    print(\n",
    "        \"Try rerunning the model to update the validation dataloaders.  Stopping prematurely.\"\n",
    "    )\n",
    "    pass\n",
    "\n",
    "lp.concatenate_loader_vars()\n",
    "\n",
    "print(\"DONE FINDING INCORRECT PREDICTIONS!\")\n",
    "print(f\"There are {len(all_labels)} images to check!\")"
   ]
  },
  {
   "cell_type": "code",
   "execution_count": null,
   "metadata": {},
   "outputs": [],
   "source": [
    "\"\"\"if you stopped the previous cell early because there are\n",
    "so many wrong predictions, run this to capture labels up until you stopped waiting\"\"\"\n",
    "lp.concatenate_loader_vars()"
   ]
  },
  {
   "cell_type": "code",
   "execution_count": 27,
   "metadata": {},
   "outputs": [
    {
     "name": "stdout",
     "output_type": "stream",
     "text": [
      "{'agg': 0, 'budding': 1, 'bullet': 2, 'column': 3, 'compact_irreg': 4, 'fragment': 5, 'planar_polycrystal': 6, 'rimed': 7, 'rimed_column': 8, 'sphere': 9}\n",
      "78 wrong predictions between agg and rimed\n"
     ]
    }
   ],
   "source": [
    "# to only look between specific categories run this cell\n",
    "label_list = dict(zip(config.CLASS_NAMES, np.arange(0, len(config.CLASS_NAMES))))\n",
    "print(label_list)\n",
    "# change these two lines to focus on wrong predictions from a specific category\n",
    "# or box within the confusion matrix\n",
    "# makes labeling easier focusing on two at a time\n",
    "human_label = label_list[\"agg\"]\n",
    "model_label = label_list[\"rimed\"]\n",
    "\n",
    "lp.hone_incorrect_predictions(label_list, human_label, model_label)"
   ]
  },
  {
   "cell_type": "code",
   "execution_count": 61,
   "metadata": {},
   "outputs": [
    {
     "data": {
      "application/vnd.jupyter.widget-view+json": {
       "model_id": "325a982d8be744bfa53320ba42a53fef",
       "version_major": 2,
       "version_minor": 0
      },
      "text/plain": [
       "HBox(children=(Output(), Dropdown(description='Category:', options=('agg', 'budding', 'bullets', 'columns', 'c…"
      ]
     },
     "metadata": {},
     "output_type": "display_data"
    }
   ],
   "source": [
    "\"\"\"\n",
    "code for ipywidget buttons called cocpit/gui.py\n",
    "\n",
    "this cell displays a bar chart of predictions that the model outputs\n",
    "a dropdown menu is available to move the image if you think the model got the label right \n",
    "when you choose an option from the dropdown list, the image will be moved to that category in the training dataset\n",
    "if you don't want to move the image and the human labeled correctly, simply click \"Next\"\n",
    "\"\"\"\n",
    "gui = gui.GUI(\n",
    "    all_labels[wrong_trunc],\n",
    "    all_paths[wrong_trunc],\n",
    "    all_topk_probs[wrong_trunc],\n",
    "    all_topk_classes[wrong_trunc],\n",
    "    all_max_preds[wrong_trunc],\n",
    ")\n",
    "gui.make_buttons()\n",
    "display(ipywidgets.HBox([gui.center, gui.menu, gui.forward]))"
   ]
  },
  {
   "cell_type": "code",
   "execution_count": 52,
   "metadata": {},
   "outputs": [
    {
     "data": {
      "text/plain": [
       "317"
      ]
     },
     "execution_count": 52,
     "metadata": {},
     "output_type": "execute_result"
    }
   ],
   "source": [
    "gui.index"
   ]
  }
 ],
 "metadata": {
  "kernelspec": {
   "display_name": "Python 3 (ipykernel)",
   "language": "python",
   "name": "python3"
  },
  "language_info": {
   "codemirror_mode": {
    "name": "ipython",
    "version": 3
   },
   "file_extension": ".py",
   "mimetype": "text/x-python",
   "name": "python",
   "nbconvert_exporter": "python",
   "pygments_lexer": "ipython3",
   "version": "3.9.6"
  }
 },
 "nbformat": 4,
 "nbformat_minor": 4
}
