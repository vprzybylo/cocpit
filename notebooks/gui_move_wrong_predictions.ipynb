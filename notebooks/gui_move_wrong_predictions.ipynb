{
 "cells": [
  {
   "cell_type": "markdown",
   "metadata": {},
   "source": [
    "An ipywidget interface to move incorrect predictions within the training dataset should they be labeled wrong"
   ]
  },
  {
   "cell_type": "code",
   "execution_count": 1,
   "metadata": {},
   "outputs": [],
   "source": [
    "import sys\n",
    "\n",
    "sys.path.insert(0, \"..\")\n",
    "import itertools\n",
    "\n",
    "import ipywidgets\n",
    "import matplotlib.pyplot as plt\n",
    "import numpy as np\n",
    "import torch\n",
    "\n",
    "import cocpit\n",
    "import cocpit.config as config\n",
    "import cocpit.gui as gui\n",
    "\n",
    "%load_ext autoreload\n",
    "%autoreload 2"
   ]
  },
  {
   "cell_type": "code",
   "execution_count": 2,
   "metadata": {},
   "outputs": [],
   "source": [
    "plt_params = {\n",
    "    \"axes.labelsize\": \"xx-large\",\n",
    "    \"axes.titlesize\": \"xx-large\",\n",
    "    \"xtick.labelsize\": \"xx-large\",\n",
    "    \"ytick.labelsize\": \"xx-large\",\n",
    "    \"legend.title_fontsize\": 12,\n",
    "}\n",
    "plt.rcParams[\"font.family\"] = \"serif\"\n",
    "plt.rcParams.update(plt_params)"
   ]
  },
  {
   "cell_type": "markdown",
   "metadata": {},
   "source": [
    "### check classifications from specific model and validation dataloader"
   ]
  },
  {
   "cell_type": "code",
   "execution_count": 7,
   "metadata": {
    "tags": []
   },
   "outputs": [
    {
     "name": "stdout",
     "output_type": "stream",
     "text": [
      "DONE FINDING INCORRECT PREDICTIONS!\n",
      "There are 4308 total images in the dataloader.\n",
      "There are 209 wrong predictions to check in the dataloader!\n"
     ]
    }
   ],
   "source": [
    "\"\"\"\n",
    "In gui.py, uses a model and validation dataloader to check predictions.\n",
    "Loops through all validation loader predictions but only saves incorrect predictions.\n",
    "The incorrect predictions are loaded into a gui so that a user can decide \n",
    "whether the label is wrong (i.e., the model is right)\n",
    "The image is automatically moved upon choosing a class from the dropdown menu.\n",
    "\"\"\"\n",
    "\n",
    "# loop over folds and model to get incorrect predictions\n",
    "# includes a validation dataloader per fold to get all of the labeled images\n",
    "# (i.e., not just 20% at once with a random shuffle)\n",
    "top_k_preds = 8  # the top k predictions will be displayed in bar chart\n",
    "folds = 1  # if kfold cross validation was not used, change to 0\n",
    "\n",
    "all_labels = []\n",
    "all_paths = []\n",
    "all_topk_probs = []\n",
    "all_topk_classes = []\n",
    "all_max_preds = []\n",
    "for fold in range(folds):\n",
    "    val_data = torch.load(\n",
    "        \"/data/data/saved_val_loaders/no_mask/v1.4.0/e[30]_val_loader20_bs[64]_k0_vgg16.pt\"\n",
    "    )\n",
    "    val_loader = cocpit.data_loaders.create_loader(val_data, batch_size=100, sampler=None)\n",
    "\n",
    "    model = torch.load(\n",
    "        f\"{config.MODEL_SAVE_DIR}e{config.MAX_EPOCHS}\"\n",
    "        f\"_bs{config.BATCH_SIZE}\"\n",
    "        f\"_k{str(fold)}_vgg16.pt\"\n",
    "    ).cuda()\n",
    "    model.eval()\n",
    "    \n",
    "    for batch_idx, ((imgs, labels, paths), index) in enumerate(val_loader):\n",
    "        all_labels.append(np.array(labels))\n",
    "        all_paths.append(paths)\n",
    "        b = cocpit.predictions.BatchPredictions(imgs, model)\n",
    "        b.find_max_preds()\n",
    "        b.top_k_preds(top_k_preds)\n",
    "        all_topk_probs.append(b.probs)\n",
    "        all_topk_classes.append(b.classes)\n",
    "        all_max_preds.append(b.max_preds)\n",
    "all_b = cocpit.predictions.LoaderPredictions(all_labels, all_paths, all_topk_probs, all_topk_classes, all_max_preds)  # combines predictions from all batches\n",
    "all_b.concatenate_loader_vars()\n",
    "all_b.find_wrong_indices()\n",
    "\n",
    "print(\"DONE FINDING INCORRECT PREDICTIONS!\")\n",
    "print(f\"There are {len(all_b.all_labels)} total images in the dataloader.\")\n",
    "print(f\"There are {len(all_b.all_labels[all_b.wrong_idx])} wrong predictions to check in the dataloader!\")\n"
   ]
  },
  {
   "cell_type": "code",
   "execution_count": 10,
   "metadata": {},
   "outputs": [
    {
     "name": "stdout",
     "output_type": "stream",
     "text": [
      "{'agg': 0, 'budding': 1, 'bullet': 2, 'column': 3, 'compact_irreg': 4, 'fragment': 5, 'planar_polycrystal': 6, 'rimed': 7, 'sphere': 8}\n",
      "3 wrong predictions between agg and budding\n"
     ]
    }
   ],
   "source": [
    "# to only look between specific categories run this cell\n",
    "label_list = dict(zip(config.CLASS_NAMES, np.arange(0, len(config.CLASS_NAMES))))\n",
    "print(label_list)\n",
    "# change these two lines to focus on wrong predictions from a specific category\n",
    "# or box within the confusion matrix\n",
    "# makes labeling easier focusing on two at a time\n",
    "human_label = label_list[\"agg\"]\n",
    "model_label = label_list[\"budding\"]\n",
    "\n",
    "all_b.hone_incorrect_predictions(label_list, human_label, model_label)"
   ]
  },
  {
   "cell_type": "code",
   "execution_count": 18,
   "metadata": {},
   "outputs": [
    {
     "data": {
      "application/vnd.jupyter.widget-view+json": {
       "model_id": "31121cbaee684571b5ecf35f30dbfd23",
       "version_major": 2,
       "version_minor": 0
      },
      "text/plain": [
       "HBox(children=(Output(), Dropdown(description='Category:', options=('agg', 'budding', 'bullet', 'column', 'com…"
      ]
     },
     "metadata": {},
     "output_type": "display_data"
    }
   ],
   "source": [
    "\"\"\"\n",
    "code for ipywidget buttons called cocpit/gui.py\n",
    "\n",
    "this cell displays a bar chart of predictions that the model outputs\n",
    "a dropdown menu is available to move the image if you think the model got the label right \n",
    "when you choose an option from the dropdown list, the image will be moved to that category in the training dataset\n",
    "if you don't want to move the image and the human labeled correctly, simply click \"Next\"\n",
    "\"\"\"\n",
    "display_gui = gui.GUI(b=all_b)\n",
    "display_gui.make_buttons()\n",
    "display(ipywidgets.HBox([display_gui.center, display_gui.menu, display_gui.forward]))"
   ]
  },
  {
   "cell_type": "code",
   "execution_count": 19,
   "metadata": {},
   "outputs": [
    {
     "data": {
      "application/vnd.jupyter.widget-view+json": {
       "model_id": "468e01d0aecd47bca9879498dd40edd3",
       "version_major": 2,
       "version_minor": 0
      },
      "text/plain": [
       "Dropdown(description='Select variable:', options=('var1', 'var2'), value='var1')"
      ]
     },
     "metadata": {},
     "output_type": "display_data"
    }
   ],
   "source": [
    "import ipywidgets as widgets\n",
    "from IPython.display import display, clear_output\n",
    "vardict = [\"var1\",\"var2\"]\n",
    "select_variable = widgets.Dropdown(\n",
    "    options=vardict,\n",
    "    value=vardict[0],\n",
    "    description='Select variable:',\n",
    "    disabled=False,\n",
    "    button_style=''\n",
    ")\n",
    "def get_and_plot(b):\n",
    "    clear_output\n",
    "    print(select_variable.value)\n",
    "\n",
    "display(select_variable)\n",
    "select_variable.observe(get_and_plot, names='value')"
   ]
  },
  {
   "cell_type": "code",
   "execution_count": null,
   "metadata": {},
   "outputs": [],
   "source": []
  }
 ],
 "metadata": {
  "kernelspec": {
   "display_name": "Python 3",
   "language": "python",
   "name": "python3"
  },
  "language_info": {
   "codemirror_mode": {
    "name": "ipython",
    "version": 3
   },
   "file_extension": ".py",
   "mimetype": "text/x-python",
   "name": "python",
   "nbconvert_exporter": "python",
   "pygments_lexer": "ipython3",
   "version": "3.9.6"
  }
 },
 "nbformat": 4,
 "nbformat_minor": 4
}
