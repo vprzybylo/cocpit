{
 "cells": [
  {
   "cell_type": "markdown",
   "metadata": {},
   "source": [
    "# Plot saliency maps to show the strength for each pixel contribution to the final output"
   ]
  },
  {
   "cell_type": "code",
   "execution_count": null,
   "metadata": {},
   "outputs": [],
   "source": [
    "%matplotlib inline\n",
    "%config InlineBackend.figure_format = 'retina'\n",
    "%load_ext autoreload\n",
    "%autoreload 2\n",
    "\n",
    "import sys\n",
    "sys.path.insert(0, \"..\")\n",
    "import cocpit.saliency as saliency\n",
    "import torch"
   ]
  },
  {
   "cell_type": "code",
   "execution_count": null,
   "metadata": {},
   "outputs": [],
   "source": [
    "tag='v1.3.0'\n",
    "model = torch.load(\n",
    "    f\"{config.BASE_DIR}/saved_models/no_mask/{tag}/e20_bs64_1models_vgg_16_v1.3.0_vgg16\"\n",
    ")\n",
    "class_names = {\n",
    "        \"aggs\": \"Aggregate\",\n",
    "        \"budding\": \"Budding\",\n",
    "        \"bullets\": \"Bullet\",\n",
    "        \"columns\": \"Column\",\n",
    "        \"compact_irregs\": \"Compact\",\n",
    "        \"fragments\": \"Fragment\",\n",
    "        \"plates\": \"Plate\",\n",
    "        \"rimed_aggs\": \"Rimed\",\n",
    "        \"spheres\": \"Sphere\",\n",
    "    }\n"
   ]
  },
  {
   "cell_type": "code",
   "execution_count": null,
   "metadata": {},
   "outputs": [],
   "source": [
    "saliency.plot_saliency(model, class_names)"
   ]
  },
  {
   "cell_type": "code",
   "execution_count": null,
   "metadata": {},
   "outputs": [],
   "source": []
  }
 ],
 "metadata": {
  "accelerator": "GPU",
  "colab": {
   "collapsed_sections": [],
   "name": "CNNVisualisation.ipynb",
   "provenance": []
  },
  "kernelspec": {
   "display_name": "Python 3 (ipykernel)",
   "language": "python",
   "name": "python3"
  },
  "language_info": {
   "codemirror_mode": {
    "name": "ipython",
    "version": 3
   },
   "file_extension": ".py",
   "mimetype": "text/x-python",
   "name": "python",
   "nbconvert_exporter": "python",
   "pygments_lexer": "ipython3",
   "version": "3.9.6"
  }
 },
 "nbformat": 4,
 "nbformat_minor": 4
}
