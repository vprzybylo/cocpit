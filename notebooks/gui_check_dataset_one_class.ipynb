{
 "cells": [
  {
   "cell_type": "markdown",
   "id": "1c301d26",
   "metadata": {},
   "source": [
    "An ipywidget interface for nested classification that separates images within a class.\n",
    " Used on the entire training dataset (not just validation like gui_move_wrong_predictions.ipynb is)"
   ]
  },
  {
   "cell_type": "code",
   "execution_count": 6,
   "id": "e1b23c9d",
   "metadata": {},
   "outputs": [
    {
     "name": "stdout",
     "output_type": "stream",
     "text": [
      "The autoreload extension is already loaded. To reload it, use:\n",
      "  %reload_ext autoreload\n"
     ]
    }
   ],
   "source": [
    "import sys\n",
    "sys.path.insert(0, \"..\")\n",
    "\n",
    "import ipywidgets\n",
    "import numpy as np\n",
    "import cocpit\n",
    "import cocpit.config as config\n",
    "import matplotlib.pyplot as plt\n",
    "%load_ext autoreload\n",
    "%autoreload 2"
   ]
  },
  {
   "cell_type": "code",
   "execution_count": 7,
   "id": "a69cb8ac",
   "metadata": {},
   "outputs": [
    {
     "data": {
      "text/plain": [
       "{'aggregate': 0,\n",
       " 'budding rosette': 1,\n",
       " 'bullet rosette': 2,\n",
       " 'column': 3,\n",
       " 'compact irregular': 4,\n",
       " 'fragment': 5,\n",
       " 'planar polycrystal': 6,\n",
       " 'rimed': 7,\n",
       " 'sphere': 8}"
      ]
     },
     "execution_count": 7,
     "metadata": {},
     "output_type": "execute_result"
    }
   ],
   "source": [
    "label_list = dict(zip(config.CLASS_NAMES, np.arange(0, len(config.CLASS_NAMES))))\n",
    "label_list"
   ]
  },
  {
   "cell_type": "code",
   "execution_count": 8,
   "id": "dc33fe60",
   "metadata": {},
   "outputs": [],
   "source": [
    "# choose one of the above classes to focus on\n",
    "focus_on = label_list[\"rimed\"]\n",
    "data = cocpit.data_loaders.get_data('train')\n",
    "paths = [\n",
    "    data.samples[item][0]\n",
    "    for item in range(len(data))\n",
    "    if data.samples[item][1] == focus_on\n",
    "]\n",
    "labels = [\n",
    "    data.samples[item][1]\n",
    "    for item in range(len(data))\n",
    "    if data.samples[item][1] == focus_on\n",
    "]"
   ]
  },
  {
   "cell_type": "code",
   "execution_count": 9,
   "id": "7ac85175",
   "metadata": {},
   "outputs": [
    {
     "data": {
      "application/vnd.jupyter.widget-view+json": {
       "model_id": "946a365c18894faea134b03c06d11b17",
       "version_major": 2,
       "version_minor": 0
      },
      "text/plain": [
       "HBox(children=(Output(), Dropdown(description='Category:', index=7, options=('aggregate', 'budding rosette', '…"
      ]
     },
     "metadata": {},
     "output_type": "display_data"
    }
   ],
   "source": [
    "gui = cocpit.gui.GUI(labels, paths, b=None, wrong=False)\n",
    "gui.make_buttons()\n",
    "display(ipywidgets.HBox([gui.center, gui.menu, gui.forward]))"
   ]
  },
  {
   "cell_type": "code",
   "execution_count": null,
   "id": "6b46fbf5",
   "metadata": {},
   "outputs": [],
   "source": []
  }
 ],
 "metadata": {
  "kernelspec": {
   "display_name": "Python 3",
   "language": "python",
   "name": "python3"
  },
  "language_info": {
   "codemirror_mode": {
    "name": "ipython",
    "version": 3
   },
   "file_extension": ".py",
   "mimetype": "text/x-python",
   "name": "python",
   "nbconvert_exporter": "python",
   "pygments_lexer": "ipython3",
   "version": "3.9.6"
  }
 },
 "nbformat": 4,
 "nbformat_minor": 5
}
