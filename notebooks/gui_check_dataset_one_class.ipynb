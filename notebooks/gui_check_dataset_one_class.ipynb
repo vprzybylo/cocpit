{
 "cells": [
  {
   "cell_type": "markdown",
   "id": "1c301d26",
   "metadata": {},
   "source": [
    "<p>An ipywidget interface for nested classification that separates images within a class <\\p>\n",
    "<p>Used on the entire training dataset (not just validation like gui_move_wrong_predictions.ipynb is)<\\p>"
   ]
  },
  {
   "cell_type": "code",
   "execution_count": 1,
   "id": "e1b23c9d",
   "metadata": {},
   "outputs": [
    {
     "ename": "IndentationError",
     "evalue": "expected an indented block (data_loaders.py, line 98)",
     "output_type": "error",
     "traceback": [
      "Traceback \u001b[0;36m(most recent call last)\u001b[0m:\n",
      "  File \u001b[1;32m\"/usr/local/lib/python3.9/site-packages/IPython/core/interactiveshell.py\"\u001b[0m, line \u001b[1;32m3441\u001b[0m, in \u001b[1;35mrun_code\u001b[0m\n    exec(code_obj, self.user_global_ns, self.user_ns)\n",
      "  File \u001b[1;32m\"/tmp/ipykernel_90/1815989354.py\"\u001b[0m, line \u001b[1;32m7\u001b[0m, in \u001b[1;35m<module>\u001b[0m\n    import cocpit\n",
      "\u001b[0;36m  File \u001b[0;32m\"/data/data/notebooks/../cocpit/__init__.py\"\u001b[0;36m, line \u001b[0;32m101\u001b[0;36m, in \u001b[0;35m<module>\u001b[0;36m\u001b[0m\n\u001b[0;31m    from . import *  # noqa: F403 E402\u001b[0m\n",
      "\u001b[0;36m  File \u001b[0;32m\"/data/data/notebooks/../cocpit/data_loaders.py\"\u001b[0;36m, line \u001b[0;32m98\u001b[0m\n\u001b[0;31m    def make_weights_for_balanced_classes(self):\u001b[0m\n\u001b[0m    ^\u001b[0m\n\u001b[0;31mIndentationError\u001b[0m\u001b[0;31m:\u001b[0m expected an indented block\n"
     ]
    }
   ],
   "source": [
    "import sys\n",
    "\n",
    "sys.path.insert(0, \"..\")\n",
    "import ipywidgets\n",
    "import numpy as np\n",
    "\n",
    "import cocpit\n",
    "import cocpit.config as config\n",
    "\n",
    "%load_ext autoreload\n",
    "%autoreload 2"
   ]
  },
  {
   "cell_type": "code",
   "execution_count": 2,
   "id": "a69cb8ac",
   "metadata": {},
   "outputs": [
    {
     "data": {
      "text/plain": [
       "{'agg': 0,\n",
       " 'budding': 1,\n",
       " 'bullet': 2,\n",
       " 'column': 3,\n",
       " 'compact_irreg': 4,\n",
       " 'fragment': 5,\n",
       " 'planar_polycrystal': 6,\n",
       " 'rimed': 7,\n",
       " 'sphere': 8}"
      ]
     },
     "execution_count": 2,
     "metadata": {},
     "output_type": "execute_result"
    }
   ],
   "source": [
    "label_list = dict(zip(config.CLASS_NAMES, np.arange(0, len(config.CLASS_NAMES))))\n",
    "label_list"
   ]
  },
  {
   "cell_type": "code",
   "execution_count": 3,
   "id": "dc33fe60",
   "metadata": {},
   "outputs": [],
   "source": [
    "# choose one of the above classes to focus on\n",
    "focus_on = label_list[\"rimed\"]\n",
    "\n",
    "data = cocpit.data_loaders.get_data()\n",
    "paths = [\n",
    "    data.samples[item][0]\n",
    "    for item in range(len(data))\n",
    "    if data.samples[item][1] == focus_on\n",
    "]\n",
    "labels = [\n",
    "    data.samples[item][1]\n",
    "    for item in range(len(data))\n",
    "    if data.samples[item][1] == focus_on\n",
    "]"
   ]
  },
  {
   "cell_type": "code",
   "execution_count": 4,
   "id": "7ac85175",
   "metadata": {},
   "outputs": [
    {
     "data": {
      "application/vnd.jupyter.widget-view+json": {
       "model_id": "e8053140cbeb472284ef85eb30ee7fae",
       "version_major": 2,
       "version_minor": 0
      },
      "text/plain": [
       "HBox(children=(Output(), Dropdown(description='Category:', index=7, options=('agg', 'budding', 'bullet', 'colu…"
      ]
     },
     "metadata": {},
     "output_type": "display_data"
    }
   ],
   "source": [
    "gui = cocpit.gui_all_labels.GUI(labels, paths)\n",
    "gui.make_buttons()\n",
    "display(ipywidgets.HBox([gui.center, gui.menu, gui.forward]))"
   ]
  },
  {
   "cell_type": "code",
   "execution_count": 14,
   "id": "bbf78eee",
   "metadata": {},
   "outputs": [
    {
     "data": {
      "text/plain": [
       "43"
      ]
     },
     "execution_count": 14,
     "metadata": {},
     "output_type": "execute_result"
    }
   ],
   "source": [
    "gui.index"
   ]
  },
  {
   "cell_type": "code",
   "execution_count": null,
   "id": "406a2e7b",
   "metadata": {},
   "outputs": [],
   "source": [
    "gui = cocpit.gui_all_la.GUI(labels, paths)\n",
    "gui.make_buttons()\n",
    "display(ipywidgets.HBox([gui.center, gui.menu, gui.forward]))"
   ]
  }
 ],
 "metadata": {
  "kernelspec": {
   "display_name": "Python 3 (ipykernel)",
   "language": "python",
   "name": "python3"
  },
  "language_info": {
   "codemirror_mode": {
    "name": "ipython",
    "version": 3
   },
   "file_extension": ".py",
   "mimetype": "text/x-python",
   "name": "python",
   "nbconvert_exporter": "python",
   "pygments_lexer": "ipython3",
   "version": "3.9.6"
  }
 },
 "nbformat": 4,
 "nbformat_minor": 5
}
