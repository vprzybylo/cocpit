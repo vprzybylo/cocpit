{
 "cells": [
  {
   "cell_type": "code",
   "execution_count": 1,
   "metadata": {},
   "outputs": [],
   "source": [
    "import datetime\n",
    "import glob\n",
    "import itertools\n",
    "import os\n",
    "\n",
    "import numpy as np\n",
    "import pandas as pd"
   ]
  },
  {
   "cell_type": "markdown",
   "metadata": {},
   "source": [
    "##### rename the sheets of images such that there is consistency in the database filenames across campaigns\n",
    "##### each campaign needs to be hardcoded and checked for appropriate syntax"
   ]
  },
  {
   "cell_type": "code",
   "execution_count": null,
   "metadata": {},
   "outputs": [],
   "source": [
    "campaign = \"ISDAC\"\n",
    "path = \"/data/data/cpi_data/campaigns/\" + campaign + \"/sheets/\"\n",
    "for file in os.listdir(path):\n",
    "    # print(file)\n",
    "    filename = file[2:6] + \"_\" + file[6:]\n",
    "    # filename=filename[:4]+'_'+filename[4:8]+'_'+filename[8:]+'.png'\n",
    "    # print(filename)\n",
    "\n",
    "    os.rename(path + file, path + filename)"
   ]
  },
  {
   "cell_type": "code",
   "execution_count": null,
   "metadata": {},
   "outputs": [],
   "source": [
    "# OLYMPEX was a bit different in the naming scheme\n",
    "campaign = \"OLYMPEX\"\n",
    "path = \"/data/data/cpi_data/campaigns/\" + campaign + \"/sheets/\"\n",
    "for file in os.listdir(path):\n",
    "    # print(file)\n",
    "    filename = \"2015_\" + file[:4] + \"_\" + file[5:]\n",
    "    # filename=file[:4]+'_'+file[4:]\n",
    "    # print(filename)\n",
    "\n",
    "    os.rename(path + file, path + filename)"
   ]
  },
  {
   "cell_type": "markdown",
   "metadata": {},
   "source": [
    "### once a database is created, add a column for the date from the filename "
   ]
  },
  {
   "cell_type": "code",
   "execution_count": 18,
   "metadata": {},
   "outputs": [],
   "source": [
    "df_CPI = pd.read_csv(\"/data/data/final_databases/vgg16/ISDAC.csv\")\n",
    "date_list = df_CPI['filename'].str.split(\".\").str[0].str.split(\"_\")\n",
    "df_CPI['date'] = date_list.str[:-2].str.join(\"_\")\n",
    "df_CPI['date'] = pd.to_datetime(df_CPI['date'], format=\"%Y_%m%d_%H%M%S\", errors='raise')\n",
    "\n",
    "# move the date to head of list using index, pop and insert\n",
    "cols = list(df_CPI)\n",
    "cols.insert(1, cols.pop(cols.index(\"date\")))\n",
    "df_CPI = df_CPI.loc[:, cols]\n",
    "df_CPI = df_CPI.sort_values(by=\"date\")\n",
    "\n",
    "#df_CPI.to_csv('/data/data/final_databases/vgg16/v1.3.0/MPACE.csv', index=False)"
   ]
  },
  {
   "cell_type": "code",
   "execution_count": 40,
   "metadata": {},
   "outputs": [
    {
     "data": {
      "text/plain": [
       "'2004-10-05 18:31:04.386'"
      ]
     },
     "execution_count": 40,
     "metadata": {},
     "output_type": "execute_result"
    }
   ],
   "source": [
    "timestamp = datetime.datetime.strptime(date_list, \"%Y_%m%d_%H%M%S_%f\")\n",
    "#pd.to_datetime(df_CPI[\"date\"], format=\"%Y%m%d-%H%M%S%f\")"
   ]
  },
  {
   "cell_type": "code",
   "execution_count": null,
   "metadata": {},
   "outputs": [],
   "source": [
    "df_CPI[\"date\"].groupby([df_CPI[\"date\"].dt.month, df_CPI[\"date\"].dt.day]).agg(\"count\")"
   ]
  }
 ],
 "metadata": {
  "kernelspec": {
   "display_name": "Python 3 (ipykernel)",
   "language": "python",
   "name": "python3"
  },
  "language_info": {
   "codemirror_mode": {
    "name": "ipython",
    "version": 3
   },
   "file_extension": ".py",
   "mimetype": "text/x-python",
   "name": "python",
   "nbconvert_exporter": "python",
   "pygments_lexer": "ipython3",
   "version": "3.9.6"
  }
 },
 "nbformat": 4,
 "nbformat_minor": 4
}
