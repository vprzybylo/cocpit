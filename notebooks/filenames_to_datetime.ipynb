{
 "cells": [
  {
   "cell_type": "code",
   "execution_count": 1,
   "metadata": {},
   "outputs": [],
   "source": [
    "import os"
   ]
  },
  {
   "cell_type": "markdown",
   "metadata": {},
   "source": [
    "##### rename the sheets of images such that there is consistency in the database filenames across campaigns\n",
    "##### each campaign needs to be hardcoded and checked for appropriate syntax"
   ]
  },
  {
   "cell_type": "code",
   "execution_count": 7,
   "metadata": {},
   "outputs": [],
   "source": [
    "campaign = \"ISDAC\"\n",
    "path = f\"{config.BASE_DIR}/cpi_data/campaigns/{campaign}/sheets/\"\n",
    "for file in os.listdir(path):\n",
    "    # print(file)\n",
    "    filename = f\"{file[2:6]}_{file[6:]}\"\n",
    "    # filename=filename[:4]+'_'+filename[4:8]+'_'+filename[8:]+'.png'\n",
    "    # print(filename)\n",
    "\n",
    "    os.rename(path + file, path + filename)"
   ]
  },
  {
   "cell_type": "code",
   "execution_count": null,
   "metadata": {},
   "outputs": [],
   "source": [
    "# OLYMPEX was a bit different in the naming scheme\n",
    "campaign = \"OLYMPEX\"\n",
    "path = f\"{config.BASE_DIR}/cpi_data/campaigns/{campaign}/sheets/\"\n",
    "for file in os.listdir(path):\n",
    "    # print(file)\n",
    "    filename = f\"2015_{file[:4]}_{file[5:]}\"\n",
    "    # filename=file[:4]+'_'+file[4:]\n",
    "    # print(filename)\n",
    "\n",
    "    os.rename(path + file, path + filename)"
   ]
  },
  {
   "cell_type": "code",
   "execution_count": 10,
   "metadata": {},
   "outputs": [],
   "source": [
    "campaign = \"AIRS_II\"\n",
    "path = f\"{config.BASE_DIR}/cpi_data/campaigns/{campaign}/sheets/\"\n",
    "for file in os.listdir(path):\n",
    "    filename = f\"2003_{file[:4]}_{file[5:]}\"\n",
    "\n",
    "    os.rename(path + file, path + filename)"
   ]
  },
  {
   "cell_type": "code",
   "execution_count": 13,
   "metadata": {},
   "outputs": [],
   "source": [
    "campaign = \"AIRS_II\"\n",
    "path = f\"{config.BASE_DIR}/cpi_data/campaigns/{campaign}/sheets/\"\n",
    "for file in os.listdir(path):\n",
    "    if '2003_2003' in file:\n",
    "        #print(file)\n",
    "        filename = f'2003_1119{file[9:]}'\n",
    "        #print(filename)\n",
    "        os.rename(path + file, path + filename)"
   ]
  },
  {
   "cell_type": "code",
   "execution_count": null,
   "metadata": {},
   "outputs": [],
   "source": []
  }
 ],
 "metadata": {
  "kernelspec": {
   "display_name": "Python 3 (ipykernel)",
   "language": "python",
   "name": "python3"
  },
  "language_info": {
   "codemirror_mode": {
    "name": "ipython",
    "version": 3
   },
   "file_extension": ".py",
   "mimetype": "text/x-python",
   "name": "python",
   "nbconvert_exporter": "python",
   "pygments_lexer": "ipython3",
   "version": "3.9.6"
  }
 },
 "nbformat": 4,
 "nbformat_minor": 4
}
