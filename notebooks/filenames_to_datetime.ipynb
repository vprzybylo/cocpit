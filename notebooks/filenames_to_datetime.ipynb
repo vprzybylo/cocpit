{
 "cells": [
  {
   "cell_type": "code",
   "execution_count": 1,
   "metadata": {},
   "outputs": [],
   "source": [
    "import datetime\n",
    "import glob\n",
    "import itertools\n",
    "import os\n",
    "\n",
    "import numpy as np\n",
    "import pandas as pd"
   ]
  },
  {
   "cell_type": "markdown",
   "metadata": {},
   "source": [
    "##### rename the sheets of images such that there is consistency in the database filenames across campaigns\n",
    "##### each campaign needs to be hardcoded and checked for appropriate syntax"
   ]
  },
  {
   "cell_type": "code",
   "execution_count": null,
   "metadata": {},
   "outputs": [],
   "source": [
    "campaign = \"ISDAC\"\n",
    "path = \"/data/data/cpi_data/campaigns/\" + campaign + \"/sheets/\"\n",
    "for file in os.listdir(path):\n",
    "    # print(file)\n",
    "    filename = file[2:6] + \"_\" + file[6:]\n",
    "    # filename=filename[:4]+'_'+filename[4:8]+'_'+filename[8:]+'.png'\n",
    "    # print(filename)\n",
    "\n",
    "    os.rename(path + file, path + filename)"
   ]
  },
  {
   "cell_type": "code",
   "execution_count": null,
   "metadata": {},
   "outputs": [],
   "source": [
    "# OLYMPEX was a bit different in the naming scheme\n",
    "campaign = \"OLYMPEX\"\n",
    "path = \"/data/data/cpi_data/campaigns/\" + campaign + \"/sheets/\"\n",
    "for file in os.listdir(path):\n",
    "    # print(file)\n",
    "    filename = \"2015_\" + file[:4] + \"_\" + file[5:]\n",
    "    # filename=file[:4]+'_'+file[4:]\n",
    "    # print(filename)\n",
    "\n",
    "    os.rename(path + file, path + filename)"
   ]
  },
  {
   "cell_type": "code",
   "execution_count": null,
   "metadata": {
    "collapsed": true,
    "jupyter": {
     "outputs_hidden": true
    }
   },
   "outputs": [],
   "source": [
    "# merge df's from each campaign\n",
    "# no longer using this since one df got too large\n",
    "dfc = []\n",
    "campaigns = []\n",
    "for campaign in [\n",
    "    \"AIRS_II\",\n",
    "    \"ARM\",\n",
    "    \"CRYSTAL_FACE_NASA\",\n",
    "    \"CRYSTAL_FACE_UND\",\n",
    "    \"ICE_L\",\n",
    "    \"MIDCIX\",\n",
    "    \"MPACE\",\n",
    "    \"OLYMPEX\",\n",
    "]:\n",
    "    df = pd.read_csv(\"../final_databases/no_mask/\" + campaign + \".csv\")\n",
    "    # print(len(df))\n",
    "    campaigns.append([campaign] * len(df))\n",
    "    dfc.append(df)\n",
    "merged = [item for items in campaigns for item in items]\n",
    "dfc = pd.concat(dfc)\n",
    "dfc[\"campaign\"] = merged\n",
    "cols = list(dfc)\n",
    "cols.insert(1, cols.pop(cols.index(\"campaign\")))  # put in 1st index\n",
    "dfc = dfc.loc[:, cols]\n",
    "dfc.to_csv(\"../final_databases/no_mask/all_campaigns.csv\")\n",
    "\n",
    "df_CPI = pd.read_csv(\"../final_databases/no_mask/all_campaigns.csv\")\n",
    "df_CPI.drop(columns=\"Unnamed: 0\", inplace=True)\n",
    "df_CPI"
   ]
  },
  {
   "cell_type": "code",
   "execution_count": null,
   "metadata": {},
   "outputs": [],
   "source": [
    "dates = []\n",
    "years = {\n",
    "    \"AIRS_II\": 2003,\n",
    "    \"CRYSTAL_FACE_UND\": 2002,\n",
    "    \"CRYSTAL_FACE_NASA\": 2002,\n",
    "    \"MIDCIX\": 2004,\n",
    "    \"ICE_L\": 2007,\n",
    "    \"OLYMPEX\": 2015,\n",
    "    \"MPACE\": 2004,\n",
    "}\n",
    "\n",
    "for dat, camp in zip(df_CPI[\"filename\"].str.split(\"_\"), df_CPI[\"campaign\"]):\n",
    "    year = years[campaign]\n",
    "    if camp == \"OLYMPEX\" and dat[0] == 11 or dat[0] == 12:\n",
    "        year = 2014\n",
    "    dat = str(year) + dat[0] + dat[1]\n",
    "    dates.append(dat)"
   ]
  },
  {
   "cell_type": "code",
   "execution_count": null,
   "metadata": {},
   "outputs": [],
   "source": [
    "# df_CPI['date'].str.split('-').str[0].str[4:6].max()\n",
    "for row in df_CPI[\"date\"]:\n",
    "    print(row)\n",
    "    pd.to_datetime(row, format=\"%Y%m%d-%H%M%S%f\")"
   ]
  },
  {
   "cell_type": "code",
   "execution_count": null,
   "metadata": {},
   "outputs": [],
   "source": [
    "df_CPI[\"date\"] = dates\n",
    "df_CPI[\"date\"] = pd.to_datetime(df_CPI[\"date\"], format=\"%Y%m%d-%H%M%S%f\")\n",
    "cols = list(df_CPI)\n",
    "# move the date to head of list using index, pop and insert\n",
    "cols.insert(2, cols.pop(cols.index(\"date\")))\n",
    "cols\n",
    "\n",
    "df_CPI = df_CPI.loc[:, cols]\n",
    "df_CPI"
   ]
  },
  {
   "cell_type": "code",
   "execution_count": null,
   "metadata": {},
   "outputs": [],
   "source": [
    "df_CPI[\"date\"].groupby([df_CPI[\"date\"].dt.month, df_CPI[\"date\"].dt.day]).agg(\"count\")"
   ]
  },
  {
   "cell_type": "code",
   "execution_count": null,
   "metadata": {},
   "outputs": [],
   "source": [
    "df_CPI = df_CPI.sort_values(by=\"date\")"
   ]
  },
  {
   "cell_type": "code",
   "execution_count": null,
   "metadata": {},
   "outputs": [],
   "source": [
    "g = df_CPI[\"date\"].groupby([(df_CPI[\"date\"].dt.day)])\n",
    "df_CPI[\"date\"].head()"
   ]
  },
  {
   "cell_type": "code",
   "execution_count": null,
   "metadata": {},
   "outputs": [],
   "source": [
    "df_CPI.to_csv(\"final_databases/no_mask/all_campaigns_datesorted.csv\", index=False)"
   ]
  }
 ],
 "metadata": {
  "kernelspec": {
   "display_name": "Python 3 (ipykernel)",
   "language": "python",
   "name": "python3"
  },
  "language_info": {
   "codemirror_mode": {
    "name": "ipython",
    "version": 3
   },
   "file_extension": ".py",
   "mimetype": "text/x-python",
   "name": "python",
   "nbconvert_exporter": "python",
   "pygments_lexer": "ipython3",
   "version": "3.9.6"
  }
 },
 "nbformat": 4,
 "nbformat_minor": 4
}
