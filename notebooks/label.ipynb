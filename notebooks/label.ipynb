{
 "cells": [
  {
   "cell_type": "code",
   "execution_count": null,
   "metadata": {},
   "outputs": [],
   "source": [
    "%load_ext autoreload\n",
    "%autoreload 2\n",
    "\n",
    "import sys\n",
    "# can't relative import with sister directory\n",
    "sys.path.insert(0, \"..\")\n",
    "import ipywidgets\n",
    "import cocpit\n",
    "import pandas as pd\n",
    "import os\n",
    "import numpy as np\n",
    "from pathlib import Path\n",
    "import cocpit.config as config\n"
   ]
  },
  {
   "cell_type": "code",
   "execution_count": 2,
   "metadata": {},
   "outputs": [],
   "source": [
    "# list of paths where the images to be labeled live\n",
    "# the images probably aren't already in folders; this is just an example\n",
    "# pretend this is one main dir (config.DATA_DIR) that all images live in\n",
    "paths = Path(os.path.join(config.DATA_DIR, 'agg')).glob(\"*.png\")\n",
    "# remove PosixPath\n",
    "paths = [str(i) for i in list(paths)]\n",
    "\n",
    "# where to save the labeled paths to\n",
    "folder_dest = '/data/data/cpi_data/training_datasets/hand_labeled_v1.4.0_noaug'\n",
    "\n",
    "# make folders to save to if they don't exist\n",
    "for label in cocpit.config.CLASS_NAMES:\n",
    "    save_path = os.path.join(folder_dest, cocpit.config.CLASS_NAME_MAP[label])\n",
    "    if not os.path.exists(save_path):\n",
    "        os.makedirs(save_path)\n"
   ]
  },
  {
   "cell_type": "code",
   "execution_count": 6,
   "metadata": {},
   "outputs": [
    {
     "data": {
      "application/vnd.jupyter.widget-view+json": {
       "model_id": "37f133ad3aab40d08d6998c127235948",
       "version_major": 2,
       "version_minor": 0
      },
      "text/plain": [
       "VBox(children=(HBox(children=(Output(),)), VBox(children=(Button(description='aggregate', style=ButtonStyle())…"
      ]
     },
     "metadata": {},
     "output_type": "display_data"
    }
   ],
   "source": [
    "g = cocpit.gui_label.GUI(paths, folder_dest)\n",
    "g.index = 0  # pick up at a specific index if restarting\n",
    "g.display_image()\n",
    "g.make_buttons()\n",
    "image_box = ipywidgets.HBox([g.center])\n",
    "if len(config.CLASS_NAMES) > 5:\n",
    "    label_btns = ipywidgets.VBox([g.buttons[i] for i in range(len(config.CLASS_NAMES))])\n",
    "else:\n",
    "    label_btns = ipywidgets.HBox([g.buttons[i] for i in range(len(config.CLASS_NAMES))])\n",
    "undo = ipywidgets.HBox([g.undo_btn])\n",
    "box_layout = ipywidgets.Layout(display='flex',\n",
    "                flex_flow='column',\n",
    "                align_items='center',\n",
    "                width='100%')\n",
    "display(ipywidgets.VBox([image_box, label_btns, undo], layout=box_layout))"
   ]
  }
 ],
 "metadata": {
  "interpreter": {
   "hash": "949777d72b0d2535278d3dc13498b2535136f6dfe0678499012e853ee9abcab1"
  },
  "kernelspec": {
   "display_name": "Python 3.9.6 64-bit",
   "language": "python",
   "name": "python3"
  },
  "language_info": {
   "codemirror_mode": {
    "name": "ipython",
    "version": 3
   },
   "file_extension": ".py",
   "mimetype": "text/x-python",
   "name": "python",
   "nbconvert_exporter": "python",
   "pygments_lexer": "ipython3",
   "version": "3.9.15"
  },
  "orig_nbformat": 4
 },
 "nbformat": 4,
 "nbformat_minor": 2
}
