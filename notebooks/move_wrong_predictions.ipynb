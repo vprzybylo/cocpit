{
 "cells": [
  {
   "cell_type": "code",
   "execution_count": 1,
   "metadata": {},
   "outputs": [],
   "source": [
    "import sys\n",
    "\n",
    "sys.path.insert(0, \"..\")\n",
    "import itertools\n",
    "import os\n",
    "\n",
    "import cocpit.config as config\n",
    "import cocpit\n",
    "\n",
    "import ipywidgets\n",
    "import matplotlib.pyplot as plt\n",
    "import numpy as np\n",
    "import torch\n",
    "import torch.nn.functional as F\n",
    "from torch import nn\n",
    "\n",
    "\n",
    "%load_ext autoreload\n",
    "%autoreload 2"
   ]
  },
  {
   "cell_type": "code",
   "execution_count": 2,
   "metadata": {},
   "outputs": [],
   "source": [
    "plt_params = {\n",
    "    \"axes.labelsize\": \"xx-large\",\n",
    "    \"axes.titlesize\": \"xx-large\",\n",
    "    \"xtick.labelsize\": \"xx-large\",\n",
    "    \"ytick.labelsize\": \"xx-large\",\n",
    "    \"legend.title_fontsize\": 12,\n",
    "}\n",
    "plt.rcParams[\"font.family\"] = \"serif\"\n",
    "plt.rcParams.update(plt_params)"
   ]
  },
  {
   "cell_type": "markdown",
   "metadata": {},
   "source": [
    "### check classifications from specific model and validation dataloader"
   ]
  },
  {
   "cell_type": "code",
   "execution_count": 3,
   "metadata": {},
   "outputs": [],
   "source": [
    "def get_dataloader(fold):\n",
    "\n",
    "    data = torch.load(\n",
    "            f\"{config.VAL_LOADER_SAVE_DIR}e{config.MAX_EPOCHS}\"\\\n",
    "            f\"_val_loader20_bs{config.BATCH_SIZE}\"\\\n",
    "            f\"_k{str(fold)}_vgg16.pt\"\n",
    "    )\n",
    "\n",
    "    val_loader = torch.utils.data.DataLoader(\n",
    "            data,\n",
    "            batch_size=int(config.BATCH_SIZE[0]),\n",
    "            shuffle=False,\n",
    "            num_workers=config.NUM_WORKERS,\n",
    "            pin_memory=True,\n",
    "    )\n",
    "    return val_loader"
   ]
  },
  {
   "cell_type": "code",
   "execution_count": 4,
   "metadata": {},
   "outputs": [],
   "source": [
    "def get_model(fold):\n",
    "    model = torch.load(\n",
    "            f\"{config.MODEL_SAVE_DIR}e{config.MAX_EPOCHS}\"\n",
    "            f\"_bs{config.BATCH_SIZE}\"\n",
    "            f\"_k{str(fold)}_vgg16.pt\"\n",
    "        ).cuda()\n",
    "    model.eval()\n",
    "    return model"
   ]
  },
  {
   "cell_type": "code",
   "execution_count": 5,
   "metadata": {},
   "outputs": [],
   "source": [
    "torch.cuda.empty_cache() "
   ]
  },
  {
   "cell_type": "code",
   "execution_count": 6,
   "metadata": {},
   "outputs": [
    {
     "name": "stdout",
     "output_type": "stream",
     "text": [
      "DONE FINDING INCORRECT PREDICTIONS!\n",
      "There are 6061 images to check!\n"
     ]
    }
   ],
   "source": [
    "'''\n",
    "Use the above model and validation dataloader to check predictions.\n",
    "Loops through all validation loader predictions but only saves incorrect predictions.\n",
    "The incorrect predictions are loaded into a gui so that a user can decide \n",
    "whether the label was wrong or the model was right\n",
    "The image is automatically moved upon choosing a class from the dropdown\n",
    "'''\n",
    "\n",
    "top_k_preds = 9  # the top k predictions will be displayed in bar chart\n",
    "\n",
    "all_labels = []\n",
    "all_paths = []\n",
    "all_topk_probs = []\n",
    "all_topk_classes = []\n",
    "all_max_preds = []\n",
    "\n",
    "try:\n",
    "\n",
    "# loop over folds and model to get incorrect predictions\n",
    "# includes a validation dataloader per fold to get all of the labeled images\n",
    "# (i.e., not just 20% at once with a random shuffle)\n",
    "    for fold in range(5):\n",
    "        val_loader = get_dataloader(fold)\n",
    "        model = get_model(fold)\n",
    "        for batch_idx, ((imgs, labels, paths), index) in enumerate(val_loader):\n",
    "            imgs = imgs.to(config.DEVICE)\n",
    "            labels = labels.to(config.DEVICE)\n",
    "\n",
    "            logits = model(imgs)\n",
    "            # dimension 1 because taking the prediction\n",
    "            # with the highest probability\n",
    "            # from all classes across each index in the batch\n",
    "            _, max_preds = torch.max(logits, dim = 1) \n",
    "\n",
    "            #convert back to lists from being on gpus\n",
    "            max_preds = max_preds.cpu().tolist()\n",
    "            labels = labels.cpu().tolist()        \n",
    "\n",
    "            wrong_idx = [index for index, elem in enumerate(max_preds)\n",
    "                                   if elem != labels[index]] #and \n",
    "                         #labels[index]==actual and elem == model_label]\n",
    "\n",
    "\n",
    "            # make sure there is an incorrect prediction in this batch otherwise skip appending      \n",
    "            if len(wrong_idx)!=0: \n",
    "                # get top k predictions for each index in the batch for bar chart\n",
    "                predictions = F.softmax(logits, dim=1)\n",
    "                topk = predictions.cpu().topk(top_k_preds)  # top k predictions\n",
    "                probs, classes = [e.data.numpy().squeeze().tolist() for e in topk]\n",
    "\n",
    "                # human label and image path\n",
    "                all_labels.append([labels[i] for i in wrong_idx])\n",
    "                all_paths.append([paths[i] for i in wrong_idx])\n",
    "\n",
    "                # model top k predicted  probability and classes per image\n",
    "                all_topk_probs.append([probs[i] for i in wrong_idx])\n",
    "                all_topk_classes.append([classes[i] for i in wrong_idx])\n",
    "\n",
    "                # top predicted class from model\n",
    "                all_max_preds.append([max_preds[i] for i in wrong_idx])\n",
    "\n",
    "except FileNotFoundError:\n",
    "    print(\"There are files in the dataloader that have already moved and cannot be found.\")\n",
    "    print(\"This is likely due to running an old model that has not captured the updated file movement.\")\n",
    "    print(\"Try rerunning the model to update the validation dataloaders.  Stopping prematurely.\")\n",
    "    pass \n",
    "\n",
    "all_labels = np.asarray(list(itertools.chain(*all_labels)))\n",
    "all_paths = np.asarray(list(itertools.chain(*all_paths)))\n",
    "all_topk_probs = np.asarray(list(itertools.chain(*all_topk_probs)))\n",
    "all_topk_classes = np.asarray(list(itertools.chain(*all_topk_classes)))\n",
    "all_max_preds = np.asarray(list(itertools.chain(*all_max_preds)))\n",
    "\n",
    "            \n",
    "print('DONE FINDING INCORRECT PREDICTIONS!')\n",
    "print(f'There are {len(all_labels)} images to check!')"
   ]
  },
  {
   "cell_type": "code",
   "execution_count": null,
   "metadata": {},
   "outputs": [],
   "source": [
    "'''if you stopped the previous cell early because there are\n",
    "so many wrong predictions run this to capture labels up until you stopped waiting'''\n",
    "all_labels = np.asarray(list(itertools.chain(*all_labels)))\n",
    "all_paths = np.asarray(list(itertools.chain(*all_paths)))\n",
    "all_topk_probs = np.asarray(list(itertools.chain(*all_topk_probs)))\n",
    "all_topk_classes = np.asarray(list(itertools.chain(*all_topk_classes)))\n",
    "all_max_preds = np.asarray(list(itertools.chain(*all_max_preds)))"
   ]
  },
  {
   "cell_type": "code",
   "execution_count": 7,
   "metadata": {},
   "outputs": [
    {
     "data": {
      "text/plain": [
       "'167 wrong predictions between budding and compact_irregs'"
      ]
     },
     "execution_count": 7,
     "metadata": {},
     "output_type": "execute_result"
    }
   ],
   "source": [
    "# to only look between specific categories run this cell\n",
    "label_list = dict(zip(config.CLASS_NAMES, np.arange(0,len(config.CLASS_NAMES))))\n",
    "\n",
    "# change these two lines to focus on wrong predictions from a specific category\n",
    "# or box within the confusion matrix\n",
    "# makes labeling easier focusing on two at a time\n",
    "human_label = label_list[\"budding\"]\n",
    "model_label = label_list[\"compact_irregs\"]\n",
    "\n",
    "idx_human = np.where(all_labels == human_label)\n",
    "idx_model = np.where(all_max_preds == model_label)\n",
    "\n",
    "# find indices where human labeled as one thing and model labeled as another\n",
    "# according to human_label and model_label above\n",
    "wrong_trunc = [] \n",
    "for i in idx_human[0]:\n",
    "    if all_max_preds[i] == model_label:\n",
    "        wrong_trunc.append(i)\n",
    "cat1 = list(label_list.keys())[list(label_list.values()).index(human_label)]\n",
    "cat2 = list(label_list.keys())[list(label_list.values()).index(model_label)]\n",
    "f\"{len(wrong_trunc)} wrong predictions between {cat1} and {cat2}\""
   ]
  },
  {
   "cell_type": "code",
   "execution_count": 17,
   "metadata": {},
   "outputs": [
    {
     "data": {
      "application/vnd.jupyter.widget-view+json": {
       "model_id": "cdecf5be99d64b8993177b6ef99e7b6d",
       "version_major": 2,
       "version_minor": 0
      },
      "text/plain": [
       "HBox(children=(Output(), Dropdown(description='Category:', index=1, options=('agg', 'budding', 'bullets', 'col…"
      ]
     },
     "metadata": {},
     "output_type": "display_data"
    }
   ],
   "source": [
    "\"\"\"\n",
    "code for ipywidget buttons called cocpit/gui.py\n",
    "\n",
    "this cell displays a bar chart of predictions that the model outputs\n",
    "a dropdown menu is available to move the image if you think the model got the label right \n",
    "when you choose an option from the dropdown list, the image will be moved to that category in the training dataset\n",
    "if you don't want to move the image and the human labeled correctly, simply click \"Next\"\n",
    "\"\"\"\n",
    "gui = cocpit.gui.GUI(\n",
    "    all_labels[wrong_trunc],\n",
    "    all_paths[wrong_trunc],\n",
    "    all_topk_probs[wrong_trunc],\n",
    "    all_topk_classes[wrong_trunc],\n",
    "    all_max_preds[wrong_trunc],\n",
    ")\n",
    "gui.make_buttons()\n",
    "display(ipywidgets.HBox([gui.center, gui.menu, gui.forward]))"
   ]
  },
  {
   "cell_type": "code",
   "execution_count": 9,
   "metadata": {},
   "outputs": [
    {
     "data": {
      "text/plain": [
       "0"
      ]
     },
     "execution_count": 9,
     "metadata": {},
     "output_type": "execute_result"
    }
   ],
   "source": [
    "gui.index"
   ]
  }
 ],
 "metadata": {
  "kernelspec": {
   "display_name": "Python 3 (ipykernel)",
   "language": "python",
   "name": "python3"
  },
  "language_info": {
   "codemirror_mode": {
    "name": "ipython",
    "version": 3
   },
   "file_extension": ".py",
   "mimetype": "text/x-python",
   "name": "python",
   "nbconvert_exporter": "python",
   "pygments_lexer": "ipython3",
   "version": "3.9.6"
  }
 },
 "nbformat": 4,
 "nbformat_minor": 4
}
